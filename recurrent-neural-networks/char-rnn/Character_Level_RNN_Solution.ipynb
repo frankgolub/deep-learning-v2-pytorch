{
 "cells": [
  {
   "cell_type": "markdown",
   "metadata": {},
   "source": [
    "# Character-Level LSTM in PyTorch\n",
    "\n",
    "In this notebook, I'll construct a character-level LSTM with PyTorch. The network will train character by character on some text, then generate new text character by character. As an example, I will train on Anna Karenina. **This model will be able to generate new text based on the text from the book!**\n",
    "\n",
    "This network is based off of Andrej Karpathy's [post on RNNs](http://karpathy.github.io/2015/05/21/rnn-effectiveness/) and [implementation in Torch](https://github.com/karpathy/char-rnn). Below is the general architecture of the character-wise RNN.\n",
    "\n",
    "<img src=\"assets/charseq.jpeg\" width=\"500\">"
   ]
  },
  {
   "cell_type": "markdown",
   "metadata": {},
   "source": [
    "First let's load in our required resources for data loading and model creation."
   ]
  },
  {
   "cell_type": "code",
   "execution_count": 1,
   "metadata": {
    "collapsed": true
   },
   "outputs": [],
   "source": [
    "import numpy as np\n",
    "import torch\n",
    "from torch import nn\n",
    "import torch.nn.functional as F"
   ]
  },
  {
   "cell_type": "markdown",
   "metadata": {},
   "source": [
    "## Load in Data\n",
    "\n",
    "Then, we'll load the Anna Karenina text file and convert it into integers for our network to use. "
   ]
  },
  {
   "cell_type": "code",
   "execution_count": 2,
   "metadata": {
    "collapsed": true
   },
   "outputs": [],
   "source": [
    "# open text file and read in data as `text`\n",
    "with open('data/anna.txt', 'r') as f:\n",
    "    text = f.read()"
   ]
  },
  {
   "cell_type": "markdown",
   "metadata": {},
   "source": [
    "Let's check out the first 100 characters, make sure everything is peachy. According to the [American Book Review](http://americanbookreview.org/100bestlines.asp), this is the 6th best first line of a book ever."
   ]
  },
  {
   "cell_type": "code",
   "execution_count": 3,
   "metadata": {},
   "outputs": [
    {
     "data": {
      "text/plain": [
       "'Chapter 1\\n\\n\\nHappy families are all alike; every unhappy family is unhappy in its own\\nway.\\n\\nEverythin'"
      ]
     },
     "execution_count": 3,
     "metadata": {},
     "output_type": "execute_result"
    }
   ],
   "source": [
    "text[:100]"
   ]
  },
  {
   "cell_type": "markdown",
   "metadata": {},
   "source": [
    "### Tokenization\n",
    "\n",
    "In the cells, below, I'm creating a couple **dictionaries** to convert the characters to and from integers. Encoding the characters as integers makes it easier to use as input in the network."
   ]
  },
  {
   "cell_type": "code",
   "execution_count": 4,
   "metadata": {
    "collapsed": true
   },
   "outputs": [],
   "source": [
    "# encode the text and map each character to an integer and vice versa\n",
    "\n",
    "# we create two dictionaries:\n",
    "# 1. int2char, which maps integers to characters\n",
    "# 2. char2int, which maps characters to unique integers\n",
    "chars = tuple(set(text))\n",
    "int2char = dict(enumerate(chars))\n",
    "char2int = {ch: ii for ii, ch in int2char.items()}\n",
    "\n",
    "# encode the text\n",
    "encoded = np.array([char2int[ch] for ch in text])"
   ]
  },
  {
   "cell_type": "markdown",
   "metadata": {},
   "source": [
    "And we can see those same characters from above, encoded as integers."
   ]
  },
  {
   "cell_type": "code",
   "execution_count": 5,
   "metadata": {},
   "outputs": [
    {
     "data": {
      "text/plain": [
       "array([82, 33, 11, 66, 71, 58, 45,  6, 68, 21, 21, 21, 79, 11, 66, 66, 13,\n",
       "        6, 30, 11, 77, 49, 56, 49, 58, 36,  6, 11, 45, 58,  6, 11, 56, 56,\n",
       "        6, 11, 56, 49, 74, 58, 59,  6, 58, 35, 58, 45, 13,  6, 75, 31, 33,\n",
       "       11, 66, 66, 13,  6, 30, 11, 77, 49, 56, 13,  6, 49, 36,  6, 75, 31,\n",
       "       33, 11, 66, 66, 13,  6, 49, 31,  6, 49, 71, 36,  6, 37,  1, 31, 21,\n",
       "        1, 11, 13, 10, 21, 21, 43, 35, 58, 45, 13, 71, 33, 49, 31])"
      ]
     },
     "execution_count": 5,
     "metadata": {},
     "output_type": "execute_result"
    }
   ],
   "source": [
    "encoded[:100]"
   ]
  },
  {
   "cell_type": "markdown",
   "metadata": {},
   "source": [
    "## Pre-processing the data\n",
    "\n",
    "As you can see in our char-RNN image above, our LSTM expects an input that is **one-hot encoded** meaning that each character is converted into an integer (via our created dictionary) and *then* converted into a column vector where only it's corresponding integer index will have the value of 1 and the rest of the vector will be filled with 0's. Since we're one-hot encoding the data, let's make a function to do that!\n"
   ]
  },
  {
   "cell_type": "code",
   "execution_count": 6,
   "metadata": {
    "collapsed": true
   },
   "outputs": [],
   "source": [
    "def one_hot_encode(arr, n_labels):\n",
    "    \n",
    "    # Initialize the the encoded array\n",
    "    one_hot = np.zeros((arr.size, n_labels), dtype=np.float32)\n",
    "    \n",
    "    # Fill the appropriate elements with ones\n",
    "    one_hot[np.arange(one_hot.shape[0]), arr.flatten()] = 1.\n",
    "    \n",
    "    # Finally reshape it to get back to the original array\n",
    "    one_hot = one_hot.reshape((*arr.shape, n_labels))\n",
    "    \n",
    "    return one_hot"
   ]
  },
  {
   "cell_type": "code",
   "execution_count": 7,
   "metadata": {},
   "outputs": [
    {
     "name": "stdout",
     "output_type": "stream",
     "text": [
      "[[[0. 0. 0. 1. 0. 0. 0. 0.]\n",
      "  [0. 0. 0. 0. 0. 1. 0. 0.]\n",
      "  [0. 1. 0. 0. 0. 0. 0. 0.]]]\n"
     ]
    }
   ],
   "source": [
    "# check that the function works as expected\n",
    "test_seq = np.array([[3, 5, 1]])\n",
    "one_hot = one_hot_encode(test_seq, 8)\n",
    "\n",
    "print(one_hot)"
   ]
  },
  {
   "cell_type": "markdown",
   "metadata": {},
   "source": [
    "## Making training mini-batches\n",
    "\n",
    "\n",
    "To train on this data, we also want to create mini-batches for training. Remember that we want our batches to be multiple sequences of some desired number of sequence steps. Considering a simple example, our batches would look like this:\n",
    "\n",
    "<img src=\"assets/sequence_batching@1x.png\" width=500px>\n",
    "\n",
    "\n",
    "<br>\n",
    "\n",
    "In this example, we'll take the encoded characters (passed in as the `arr` parameter) and split them into multiple sequences, given by `batch_size`. Each of our sequences will be `seq_length` long.\n",
    "\n",
    "### Creating Batches\n",
    "\n",
    "**1. The first thing we need to do is discard some of the text so we only have completely full mini-batches. **\n",
    "\n",
    "Each batch contains $N \\times M$ characters, where $N$ is the batch size (the number of sequences in a batch) and $M$ is the seq_length or number of time steps in a sequence. Then, to get the total number of batches, $K$, that we can make from the array `arr`, you divide the length of `arr` by the number of characters per batch. Once you know the number of batches, you can get the total number of characters to keep from `arr`, $N * M * K$.\n",
    "\n",
    "**2. After that, we need to split `arr` into $N$ batches. ** \n",
    "\n",
    "You can do this using `arr.reshape(size)` where `size` is a tuple containing the dimensions sizes of the reshaped array. We know we want $N$ sequences in a batch, so let's make that the size of the first dimension. For the second dimension, you can use `-1` as a placeholder in the size, it'll fill up the array with the appropriate data for you. After this, you should have an array that is $N \\times (M * K)$.\n",
    "\n",
    "**3. Now that we have this array, we can iterate through it to get our mini-batches. **\n",
    "\n",
    "The idea is each batch is a $N \\times M$ window on the $N \\times (M * K)$ array. For each subsequent batch, the window moves over by `seq_length`. We also want to create both the input and target arrays. Remember that the targets are just the inputs shifted over by one character. The way I like to do this window is use `range` to take steps of size `n_steps` from $0$ to `arr.shape[1]`, the total number of tokens in each sequence. That way, the integers you get from `range` always point to the start of a batch, and each window is `seq_length` wide.\n",
    "\n",
    "> **TODO:** Write the code for creating batches in the function below. The exercises in this notebook _will not be easy_. I've provided a notebook with solutions alongside this notebook. If you get stuck, checkout the solutions. The most important thing is that you don't copy and paste the code into here, **type out the solution code yourself.**"
   ]
  },
  {
   "cell_type": "code",
   "execution_count": 8,
   "metadata": {
    "collapsed": true
   },
   "outputs": [],
   "source": [
    "def get_batches(arr, batch_size, seq_length):\n",
    "    '''Create a generator that returns batches of size\n",
    "       batch_size x seq_length from arr.\n",
    "       \n",
    "       Arguments\n",
    "       ---------\n",
    "       arr: Array you want to make batches from\n",
    "       batch_size: Batch size, the number of sequences per batch\n",
    "       seq_length: Number of encoded chars in a sequence\n",
    "    '''\n",
    "    \n",
    "    batch_size_total = batch_size * seq_length\n",
    "    # total number of batches we can make\n",
    "    n_batches = len(arr)//batch_size_total\n",
    "    \n",
    "    # Keep only enough characters to make full batches\n",
    "    arr = arr[:n_batches * batch_size_total]\n",
    "    # Reshape into batch_size rows\n",
    "    arr = arr.reshape((batch_size, -1))\n",
    "    \n",
    "    # iterate through the array, one sequence at a time\n",
    "    for n in range(0, arr.shape[1], seq_length):\n",
    "        # The features\n",
    "        x = arr[:, n:n+seq_length]\n",
    "        # The targets, shifted by one\n",
    "        y = np.zeros_like(x)\n",
    "        try:\n",
    "            y[:, :-1], y[:, -1] = x[:, 1:], arr[:, n+seq_length]\n",
    "        except IndexError:\n",
    "            y[:, :-1], y[:, -1] = x[:, 1:], arr[:, 0]\n",
    "        yield x, y"
   ]
  },
  {
   "cell_type": "markdown",
   "metadata": {},
   "source": [
    "### Test Your Implementation\n",
    "\n",
    "Now I'll make some data sets and we can check out what's going on as we batch data. Here, as an example, I'm going to use a batch size of 8 and 50 sequence steps."
   ]
  },
  {
   "cell_type": "code",
   "execution_count": 9,
   "metadata": {
    "collapsed": true
   },
   "outputs": [],
   "source": [
    "batches = get_batches(encoded, 8, 50)\n",
    "x, y = next(batches)"
   ]
  },
  {
   "cell_type": "code",
   "execution_count": 10,
   "metadata": {},
   "outputs": [
    {
     "name": "stdout",
     "output_type": "stream",
     "text": [
      "x\n",
      " [[82 33 11 66 71 58 45  6 68 21]\n",
      " [36 37 31  6 71 33 11 71  6 11]\n",
      " [58 31 42  6 37 45  6 11  6 30]\n",
      " [36  6 71 33 58  6  2 33 49 58]\n",
      " [ 6 36 11  1  6 33 58 45  6 71]\n",
      " [ 2 75 36 36 49 37 31  6 11 31]\n",
      " [ 6 72 31 31 11  6 33 11 42  6]\n",
      " [18 53 56 37 31 36 74 13 10  6]]\n",
      "\n",
      "y\n",
      " [[33 11 66 71 58 45  6 68 21 21]\n",
      " [37 31  6 71 33 11 71  6 11 71]\n",
      " [31 42  6 37 45  6 11  6 30 37]\n",
      " [ 6 71 33 58  6  2 33 49 58 30]\n",
      " [36 11  1  6 33 58 45  6 71 58]\n",
      " [75 36 36 49 37 31  6 11 31 42]\n",
      " [72 31 31 11  6 33 11 42  6 36]\n",
      " [53 56 37 31 36 74 13 10  6 57]]\n"
     ]
    }
   ],
   "source": [
    "# printing out the first 10 items in a sequence\n",
    "print('x\\n', x[:10, :10])\n",
    "print('\\ny\\n', y[:10, :10])"
   ]
  },
  {
   "cell_type": "markdown",
   "metadata": {},
   "source": [
    "If you implemented `get_batches` correctly, the above output should look something like \n",
    "```\n",
    "x\n",
    " [[25  8 60 11 45 27 28 73  1  2]\n",
    " [17  7 20 73 45  8 60 45 73 60]\n",
    " [27 20 80 73  7 28 73 60 73 65]\n",
    " [17 73 45  8 27 73 66  8 46 27]\n",
    " [73 17 60 12 73  8 27 28 73 45]\n",
    " [66 64 17 17 46  7 20 73 60 20]\n",
    " [73 76 20 20 60 73  8 60 80 73]\n",
    " [47 35 43  7 20 17 24 50 37 73]]\n",
    "\n",
    "y\n",
    " [[ 8 60 11 45 27 28 73  1  2  2]\n",
    " [ 7 20 73 45  8 60 45 73 60 45]\n",
    " [20 80 73  7 28 73 60 73 65  7]\n",
    " [73 45  8 27 73 66  8 46 27 65]\n",
    " [17 60 12 73  8 27 28 73 45 27]\n",
    " [64 17 17 46  7 20 73 60 20 80]\n",
    " [76 20 20 60 73  8 60 80 73 17]\n",
    " [35 43  7 20 17 24 50 37 73 36]]\n",
    " ```\n",
    " although the exact numbers may be different. Check to make sure the data is shifted over one step for `y`."
   ]
  },
  {
   "cell_type": "markdown",
   "metadata": {},
   "source": [
    "---\n",
    "## Defining the network with PyTorch\n",
    "\n",
    "Below is where you'll define the network.\n",
    "\n",
    "<img src=\"assets/charRNN.png\" width=500px>\n",
    "\n",
    "Next, you'll use PyTorch to define the architecture of the network. We start by defining the layers and operations we want. Then, define a method for the forward pass. You've also been given a method for predicting characters."
   ]
  },
  {
   "cell_type": "markdown",
   "metadata": {},
   "source": [
    "### Model Structure\n",
    "\n",
    "In `__init__` the suggested structure is as follows:\n",
    "* Create and store the necessary dictionaries (this has been done for you)\n",
    "* Define an LSTM layer that takes as params: an input size (the number of characters), a hidden layer size `n_hidden`, a number of layers `n_layers`, a dropout probability `drop_prob`, and a batch_first boolean (True, since we are batching)\n",
    "* Define a dropout layer with `drop_prob`\n",
    "* Define a fully-connected layer with params: input size `n_hidden` and output size (the number of characters)\n",
    "* Finally, initialize the weights (again, this has been given)\n",
    "\n",
    "Note that some parameters have been named and given in the `__init__` function, and we use them and store them by doing something like `self.drop_prob = drop_prob`."
   ]
  },
  {
   "cell_type": "markdown",
   "metadata": {},
   "source": [
    "---\n",
    "### LSTM Inputs/Outputs\n",
    "\n",
    "You can create a basic [LSTM layer](https://pytorch.org/docs/stable/nn.html#lstm) as follows\n",
    "\n",
    "```python\n",
    "self.lstm = nn.LSTM(input_size, n_hidden, n_layers, \n",
    "                            dropout=drop_prob, batch_first=True)\n",
    "```\n",
    "\n",
    "where `input_size` is the number of characters this cell expects to see as sequential input, and `n_hidden` is the number of units in the hidden layers in the cell. And we can add dropout by adding a dropout parameter with a specified probability; this will automatically add dropout to the inputs or outputs. Finally, in the `forward` function, we can stack up the LSTM cells into layers using `.view`. With this, you pass in a list of cells and it will send the output of one cell into the next cell.\n",
    "\n",
    "We also need to create an initial hidden state of all zeros. This is done like so\n",
    "\n",
    "```python\n",
    "self.init_hidden()\n",
    "```"
   ]
  },
  {
   "cell_type": "code",
   "execution_count": 11,
   "metadata": {},
   "outputs": [
    {
     "name": "stdout",
     "output_type": "stream",
     "text": [
      "Training on GPU!\n"
     ]
    }
   ],
   "source": [
    "# check if GPU is available\n",
    "train_on_gpu = torch.cuda.is_available()\n",
    "if(train_on_gpu):\n",
    "    print('Training on GPU!')\n",
    "else: \n",
    "    print('No GPU available, training on CPU; consider making n_epochs very small.')"
   ]
  },
  {
   "cell_type": "code",
   "execution_count": 12,
   "metadata": {
    "collapsed": true
   },
   "outputs": [],
   "source": [
    "class CharRNN(nn.Module):\n",
    "    \n",
    "    def __init__(self, tokens, n_hidden=256, n_layers=2,\n",
    "                               drop_prob=0.5, lr=0.001):\n",
    "        super().__init__()\n",
    "        self.drop_prob = drop_prob\n",
    "        self.n_layers = n_layers\n",
    "        self.n_hidden = n_hidden\n",
    "        self.lr = lr\n",
    "        \n",
    "        # creating character dictionaries\n",
    "        self.chars = tokens\n",
    "        self.int2char = dict(enumerate(self.chars))\n",
    "        self.char2int = {ch: ii for ii, ch in self.int2char.items()}\n",
    "        \n",
    "        ## TODO: define the LSTM\n",
    "        self.lstm = nn.LSTM(len(self.chars), n_hidden, n_layers, \n",
    "                            dropout=drop_prob, batch_first=True)\n",
    "        \n",
    "        ## TODO: define a dropout layer\n",
    "        self.dropout = nn.Dropout(drop_prob)\n",
    "        \n",
    "        ## TODO: define the final, fully-connected output layer\n",
    "        self.fc = nn.Linear(n_hidden, len(self.chars))\n",
    "      \n",
    "    \n",
    "    def forward(self, x, hidden):\n",
    "        ''' Forward pass through the network. \n",
    "            These inputs are x, and the hidden/cell state `hidden`. '''\n",
    "                \n",
    "        ## TODO: Get the outputs and the new hidden state from the lstm\n",
    "        r_output, hidden = self.lstm(x, hidden)\n",
    "        \n",
    "        ## TODO: pass through a dropout layer\n",
    "        out = self.dropout(r_output)\n",
    "        \n",
    "        # Stack up LSTM outputs using view\n",
    "        # you may need to use contiguous to reshape the output\n",
    "        out = out.contiguous().view(-1, self.n_hidden)\n",
    "        \n",
    "        ## TODO: put x through the fully-connected layer\n",
    "        out = self.fc(out)\n",
    "        \n",
    "        # return the final output and the hidden state\n",
    "        return out, hidden\n",
    "    \n",
    "    \n",
    "    def init_hidden(self, batch_size):\n",
    "        ''' Initializes hidden state '''\n",
    "        # Create two new tensors with sizes n_layers x batch_size x n_hidden,\n",
    "        # initialized to zero, for hidden state and cell state of LSTM\n",
    "        weight = next(self.parameters()).data\n",
    "        \n",
    "        if (train_on_gpu):\n",
    "            hidden = (weight.new(self.n_layers, batch_size, self.n_hidden).zero_().cuda(),\n",
    "                  weight.new(self.n_layers, batch_size, self.n_hidden).zero_().cuda())\n",
    "        else:\n",
    "            hidden = (weight.new(self.n_layers, batch_size, self.n_hidden).zero_(),\n",
    "                      weight.new(self.n_layers, batch_size, self.n_hidden).zero_())\n",
    "        \n",
    "        return hidden\n",
    "        "
   ]
  },
  {
   "cell_type": "markdown",
   "metadata": {},
   "source": [
    "## Time to train\n",
    "\n",
    "The train function gives us the ability to set the number of epochs, the learning rate, and other parameters.\n",
    "\n",
    "Below we're using an Adam optimizer and cross entropy loss since we are looking at character class scores as output. We calculate the loss and perform backpropagation, as usual!\n",
    "\n",
    "A couple of details about training: \n",
    ">* Within the batch loop, we detach the hidden state from its history; this time setting it equal to a new *tuple* variable because an LSTM has a hidden state that is a tuple of the hidden and cell states.\n",
    "* We use [`clip_grad_norm_`](https://pytorch.org/docs/stable/_modules/torch/nn/utils/clip_grad.html) to help prevent exploding gradients."
   ]
  },
  {
   "cell_type": "code",
   "execution_count": 13,
   "metadata": {
    "collapsed": true
   },
   "outputs": [],
   "source": [
    "def train(net, data, epochs=10, batch_size=10, seq_length=50, lr=0.001, clip=5, val_frac=0.1, print_every=10):\n",
    "    ''' Training a network \n",
    "    \n",
    "        Arguments\n",
    "        ---------\n",
    "        \n",
    "        net: CharRNN network\n",
    "        data: text data to train the network\n",
    "        epochs: Number of epochs to train\n",
    "        batch_size: Number of mini-sequences per mini-batch, aka batch size\n",
    "        seq_length: Number of character steps per mini-batch\n",
    "        lr: learning rate\n",
    "        clip: gradient clipping\n",
    "        val_frac: Fraction of data to hold out for validation\n",
    "        print_every: Number of steps for printing training and validation loss\n",
    "    \n",
    "    '''\n",
    "    net.train()\n",
    "    \n",
    "    opt = torch.optim.Adam(net.parameters(), lr=lr)\n",
    "    criterion = nn.CrossEntropyLoss()\n",
    "    \n",
    "    # create training and validation data\n",
    "    val_idx = int(len(data)*(1-val_frac))\n",
    "    data, val_data = data[:val_idx], data[val_idx:]\n",
    "    \n",
    "    if(train_on_gpu):\n",
    "        net.cuda()\n",
    "    \n",
    "    counter = 0\n",
    "    n_chars = len(net.chars)\n",
    "    for e in range(epochs):\n",
    "        # initialize hidden state\n",
    "        h = net.init_hidden(batch_size)\n",
    "        \n",
    "        for x, y in get_batches(data, batch_size, seq_length):\n",
    "            counter += 1\n",
    "            \n",
    "            # One-hot encode our data and make them Torch tensors\n",
    "            x = one_hot_encode(x, n_chars)\n",
    "            inputs, targets = torch.from_numpy(x), torch.from_numpy(y)\n",
    "            \n",
    "            if(train_on_gpu):\n",
    "                inputs, targets = inputs.cuda(), targets.cuda()\n",
    "\n",
    "            # Creating new variables for the hidden state, otherwise\n",
    "            # we'd backprop through the entire training history\n",
    "            h = tuple([each.data for each in h])\n",
    "\n",
    "            # zero accumulated gradients\n",
    "            net.zero_grad()\n",
    "            \n",
    "            # get the output from the model\n",
    "            output, h = net(inputs, h)\n",
    "            \n",
    "            # calculate the loss and perform backprop\n",
    "            loss = criterion(output, targets.view(batch_size*seq_length).long())\n",
    "            loss.backward()\n",
    "            # `clip_grad_norm` helps prevent the exploding gradient problem in RNNs / LSTMs.\n",
    "            nn.utils.clip_grad_norm_(net.parameters(), clip)\n",
    "            opt.step()\n",
    "            \n",
    "            # loss stats\n",
    "            if counter % print_every == 0:\n",
    "                # Get validation loss\n",
    "                val_h = net.init_hidden(batch_size)\n",
    "                val_losses = []\n",
    "                net.eval()\n",
    "                for x, y in get_batches(val_data, batch_size, seq_length):\n",
    "                    # One-hot encode our data and make them Torch tensors\n",
    "                    x = one_hot_encode(x, n_chars)\n",
    "                    x, y = torch.from_numpy(x), torch.from_numpy(y)\n",
    "                    \n",
    "                    # Creating new variables for the hidden state, otherwise\n",
    "                    # we'd backprop through the entire training history\n",
    "                    val_h = tuple([each.data for each in val_h])\n",
    "                    \n",
    "                    inputs, targets = x, y\n",
    "                    if(train_on_gpu):\n",
    "                        inputs, targets = inputs.cuda(), targets.cuda()\n",
    "\n",
    "                    output, val_h = net(inputs, val_h)\n",
    "                    val_loss = criterion(output, targets.view(batch_size*seq_length).long())\n",
    "                \n",
    "                    val_losses.append(val_loss.item())\n",
    "                \n",
    "                net.train() # reset to train mode after iterationg through validation data\n",
    "                \n",
    "                print(\"Epoch: {}/{}...\".format(e+1, epochs),\n",
    "                      \"Step: {}...\".format(counter),\n",
    "                      \"Loss: {:.4f}...\".format(loss.item()),\n",
    "                      \"Val Loss: {:.4f}\".format(np.mean(val_losses)))"
   ]
  },
  {
   "cell_type": "markdown",
   "metadata": {},
   "source": [
    "## Instantiating the model\n",
    "\n",
    "Now we can actually train the network. First we'll create the network itself, with some given hyperparameters. Then, define the mini-batches sizes, and start training!"
   ]
  },
  {
   "cell_type": "code",
   "execution_count": 14,
   "metadata": {},
   "outputs": [
    {
     "name": "stdout",
     "output_type": "stream",
     "text": [
      "CharRNN(\n",
      "  (lstm): LSTM(83, 512, num_layers=2, batch_first=True, dropout=0.5)\n",
      "  (dropout): Dropout(p=0.5, inplace=False)\n",
      "  (fc): Linear(in_features=512, out_features=83, bias=True)\n",
      ")\n"
     ]
    }
   ],
   "source": [
    "# define and print the net\n",
    "n_hidden=512\n",
    "n_layers=2\n",
    "\n",
    "net = CharRNN(chars, n_hidden, n_layers)\n",
    "print(net)"
   ]
  },
  {
   "cell_type": "code",
   "execution_count": 15,
   "metadata": {
    "scrolled": true
   },
   "outputs": [
    {
     "name": "stdout",
     "output_type": "stream",
     "text": [
      "Epoch: 1/20... Step: 10... Loss: 3.2612... Val Loss: 3.1702\n",
      "Epoch: 1/20... Step: 20... Loss: 3.1518... Val Loss: 3.1298\n",
      "Epoch: 1/20... Step: 30... Loss: 3.1417... Val Loss: 3.1210\n",
      "Epoch: 1/20... Step: 40... Loss: 3.1134... Val Loss: 3.1191\n",
      "Epoch: 1/20... Step: 50... Loss: 3.1386... Val Loss: 3.1163\n",
      "Epoch: 1/20... Step: 60... Loss: 3.1140... Val Loss: 3.1118\n",
      "Epoch: 1/20... Step: 70... Loss: 3.1009... Val Loss: 3.1044\n",
      "Epoch: 1/20... Step: 80... Loss: 3.0994... Val Loss: 3.0865\n",
      "Epoch: 1/20... Step: 90... Loss: 3.0596... Val Loss: 3.0408\n",
      "Epoch: 1/20... Step: 100... Loss: 2.9832... Val Loss: 2.9576\n",
      "Epoch: 1/20... Step: 110... Loss: 2.9040... Val Loss: 2.8783\n",
      "Epoch: 1/20... Step: 120... Loss: 2.7838... Val Loss: 2.7867\n",
      "Epoch: 1/20... Step: 130... Loss: 2.7650... Val Loss: 2.7158\n",
      "Epoch: 2/20... Step: 140... Loss: 2.6638... Val Loss: 2.6185\n",
      "Epoch: 2/20... Step: 150... Loss: 2.5844... Val Loss: 2.5424\n",
      "Epoch: 2/20... Step: 160... Loss: 2.5276... Val Loss: 2.4865\n",
      "Epoch: 2/20... Step: 170... Loss: 2.4584... Val Loss: 2.4429\n",
      "Epoch: 2/20... Step: 180... Loss: 2.4383... Val Loss: 2.4079\n",
      "Epoch: 2/20... Step: 190... Loss: 2.3903... Val Loss: 2.3804\n",
      "Epoch: 2/20... Step: 200... Loss: 2.3814... Val Loss: 2.3498\n",
      "Epoch: 2/20... Step: 210... Loss: 2.3567... Val Loss: 2.3298\n",
      "Epoch: 2/20... Step: 220... Loss: 2.3161... Val Loss: 2.2986\n",
      "Epoch: 2/20... Step: 230... Loss: 2.2955... Val Loss: 2.2705\n",
      "Epoch: 2/20... Step: 240... Loss: 2.2850... Val Loss: 2.2461\n",
      "Epoch: 2/20... Step: 250... Loss: 2.2218... Val Loss: 2.2215\n",
      "Epoch: 2/20... Step: 260... Loss: 2.1925... Val Loss: 2.1984\n",
      "Epoch: 2/20... Step: 270... Loss: 2.1982... Val Loss: 2.1720\n",
      "Epoch: 3/20... Step: 280... Loss: 2.2019... Val Loss: 2.1530\n",
      "Epoch: 3/20... Step: 290... Loss: 2.1713... Val Loss: 2.1308\n",
      "Epoch: 3/20... Step: 300... Loss: 2.1432... Val Loss: 2.1109\n",
      "Epoch: 3/20... Step: 310... Loss: 2.1199... Val Loss: 2.0913\n",
      "Epoch: 3/20... Step: 320... Loss: 2.0870... Val Loss: 2.0745\n",
      "Epoch: 3/20... Step: 330... Loss: 2.0620... Val Loss: 2.0569\n",
      "Epoch: 3/20... Step: 340... Loss: 2.0833... Val Loss: 2.0338\n",
      "Epoch: 3/20... Step: 350... Loss: 2.0584... Val Loss: 2.0268\n",
      "Epoch: 3/20... Step: 360... Loss: 1.9894... Val Loss: 2.0036\n",
      "Epoch: 3/20... Step: 370... Loss: 2.0249... Val Loss: 1.9876\n",
      "Epoch: 3/20... Step: 380... Loss: 1.9987... Val Loss: 1.9707\n",
      "Epoch: 3/20... Step: 390... Loss: 1.9691... Val Loss: 1.9572\n",
      "Epoch: 3/20... Step: 400... Loss: 1.9560... Val Loss: 1.9430\n",
      "Epoch: 3/20... Step: 410... Loss: 1.9602... Val Loss: 1.9320\n",
      "Epoch: 4/20... Step: 420... Loss: 1.9483... Val Loss: 1.9154\n",
      "Epoch: 4/20... Step: 430... Loss: 1.9301... Val Loss: 1.8993\n",
      "Epoch: 4/20... Step: 440... Loss: 1.9201... Val Loss: 1.8929\n",
      "Epoch: 4/20... Step: 450... Loss: 1.8667... Val Loss: 1.8786\n",
      "Epoch: 4/20... Step: 460... Loss: 1.8552... Val Loss: 1.8678\n",
      "Epoch: 4/20... Step: 470... Loss: 1.8842... Val Loss: 1.8587\n",
      "Epoch: 4/20... Step: 480... Loss: 1.8663... Val Loss: 1.8482\n",
      "Epoch: 4/20... Step: 490... Loss: 1.8661... Val Loss: 1.8325\n",
      "Epoch: 4/20... Step: 500... Loss: 1.8698... Val Loss: 1.8185\n",
      "Epoch: 4/20... Step: 510... Loss: 1.8421... Val Loss: 1.8073\n",
      "Epoch: 4/20... Step: 520... Loss: 1.8562... Val Loss: 1.7991\n",
      "Epoch: 4/20... Step: 530... Loss: 1.8112... Val Loss: 1.7906\n",
      "Epoch: 4/20... Step: 540... Loss: 1.7748... Val Loss: 1.7781\n",
      "Epoch: 4/20... Step: 550... Loss: 1.8148... Val Loss: 1.7690\n",
      "Epoch: 5/20... Step: 560... Loss: 1.7881... Val Loss: 1.7607\n",
      "Epoch: 5/20... Step: 570... Loss: 1.7716... Val Loss: 1.7510\n",
      "Epoch: 5/20... Step: 580... Loss: 1.7475... Val Loss: 1.7413\n",
      "Epoch: 5/20... Step: 590... Loss: 1.7572... Val Loss: 1.7341\n",
      "Epoch: 5/20... Step: 600... Loss: 1.7398... Val Loss: 1.7248\n",
      "Epoch: 5/20... Step: 610... Loss: 1.7231... Val Loss: 1.7168\n",
      "Epoch: 5/20... Step: 620... Loss: 1.7358... Val Loss: 1.7128\n",
      "Epoch: 5/20... Step: 630... Loss: 1.7495... Val Loss: 1.7016\n",
      "Epoch: 5/20... Step: 640... Loss: 1.7185... Val Loss: 1.6962\n",
      "Epoch: 5/20... Step: 650... Loss: 1.7019... Val Loss: 1.6905\n",
      "Epoch: 5/20... Step: 660... Loss: 1.6749... Val Loss: 1.6823\n",
      "Epoch: 5/20... Step: 670... Loss: 1.7006... Val Loss: 1.6771\n",
      "Epoch: 5/20... Step: 680... Loss: 1.7009... Val Loss: 1.6704\n",
      "Epoch: 5/20... Step: 690... Loss: 1.6750... Val Loss: 1.6653\n",
      "Epoch: 6/20... Step: 700... Loss: 1.6764... Val Loss: 1.6565\n",
      "Epoch: 6/20... Step: 710... Loss: 1.6637... Val Loss: 1.6472\n",
      "Epoch: 6/20... Step: 720... Loss: 1.6544... Val Loss: 1.6437\n",
      "Epoch: 6/20... Step: 730... Loss: 1.6681... Val Loss: 1.6372\n",
      "Epoch: 6/20... Step: 740... Loss: 1.6406... Val Loss: 1.6312\n",
      "Epoch: 6/20... Step: 750... Loss: 1.6185... Val Loss: 1.6256\n",
      "Epoch: 6/20... Step: 760... Loss: 1.6584... Val Loss: 1.6189\n",
      "Epoch: 6/20... Step: 770... Loss: 1.6417... Val Loss: 1.6172\n",
      "Epoch: 6/20... Step: 780... Loss: 1.6181... Val Loss: 1.6128\n",
      "Epoch: 6/20... Step: 790... Loss: 1.6100... Val Loss: 1.6072\n",
      "Epoch: 6/20... Step: 800... Loss: 1.6285... Val Loss: 1.6042\n",
      "Epoch: 6/20... Step: 810... Loss: 1.6127... Val Loss: 1.5943\n",
      "Epoch: 6/20... Step: 820... Loss: 1.5690... Val Loss: 1.5885\n",
      "Epoch: 6/20... Step: 830... Loss: 1.6198... Val Loss: 1.5844\n",
      "Epoch: 7/20... Step: 840... Loss: 1.5735... Val Loss: 1.5815\n",
      "Epoch: 7/20... Step: 850... Loss: 1.5844... Val Loss: 1.5748\n",
      "Epoch: 7/20... Step: 860... Loss: 1.5765... Val Loss: 1.5720\n",
      "Epoch: 7/20... Step: 870... Loss: 1.5804... Val Loss: 1.5682\n",
      "Epoch: 7/20... Step: 880... Loss: 1.5808... Val Loss: 1.5665\n",
      "Epoch: 7/20... Step: 890... Loss: 1.5761... Val Loss: 1.5593\n",
      "Epoch: 7/20... Step: 900... Loss: 1.5623... Val Loss: 1.5537\n",
      "Epoch: 7/20... Step: 910... Loss: 1.5374... Val Loss: 1.5535\n",
      "Epoch: 7/20... Step: 920... Loss: 1.5588... Val Loss: 1.5463\n",
      "Epoch: 7/20... Step: 930... Loss: 1.5485... Val Loss: 1.5444\n",
      "Epoch: 7/20... Step: 940... Loss: 1.5481... Val Loss: 1.5372\n",
      "Epoch: 7/20... Step: 950... Loss: 1.5521... Val Loss: 1.5339\n",
      "Epoch: 7/20... Step: 960... Loss: 1.5575... Val Loss: 1.5298\n",
      "Epoch: 7/20... Step: 970... Loss: 1.5597... Val Loss: 1.5271\n",
      "Epoch: 8/20... Step: 980... Loss: 1.5358... Val Loss: 1.5255\n",
      "Epoch: 8/20... Step: 990... Loss: 1.5280... Val Loss: 1.5196\n",
      "Epoch: 8/20... Step: 1000... Loss: 1.5210... Val Loss: 1.5174\n",
      "Epoch: 8/20... Step: 1010... Loss: 1.5600... Val Loss: 1.5131\n",
      "Epoch: 8/20... Step: 1020... Loss: 1.5287... Val Loss: 1.5138\n",
      "Epoch: 8/20... Step: 1030... Loss: 1.5143... Val Loss: 1.5048\n",
      "Epoch: 8/20... Step: 1040... Loss: 1.5201... Val Loss: 1.5053\n",
      "Epoch: 8/20... Step: 1050... Loss: 1.4987... Val Loss: 1.5039\n",
      "Epoch: 8/20... Step: 1060... Loss: 1.4982... Val Loss: 1.5007\n",
      "Epoch: 8/20... Step: 1070... Loss: 1.5138... Val Loss: 1.4975\n",
      "Epoch: 8/20... Step: 1080... Loss: 1.4990... Val Loss: 1.4915\n",
      "Epoch: 8/20... Step: 1090... Loss: 1.4891... Val Loss: 1.4859\n",
      "Epoch: 8/20... Step: 1100... Loss: 1.4737... Val Loss: 1.4841\n",
      "Epoch: 8/20... Step: 1110... Loss: 1.4860... Val Loss: 1.4803\n",
      "Epoch: 9/20... Step: 1120... Loss: 1.4954... Val Loss: 1.4772\n",
      "Epoch: 9/20... Step: 1130... Loss: 1.4939... Val Loss: 1.4743\n",
      "Epoch: 9/20... Step: 1140... Loss: 1.4938... Val Loss: 1.4736\n",
      "Epoch: 9/20... Step: 1150... Loss: 1.5051... Val Loss: 1.4726\n",
      "Epoch: 9/20... Step: 1160... Loss: 1.4554... Val Loss: 1.4692\n",
      "Epoch: 9/20... Step: 1170... Loss: 1.4665... Val Loss: 1.4656\n",
      "Epoch: 9/20... Step: 1180... Loss: 1.4621... Val Loss: 1.4630\n",
      "Epoch: 9/20... Step: 1190... Loss: 1.4988... Val Loss: 1.4651\n",
      "Epoch: 9/20... Step: 1200... Loss: 1.4475... Val Loss: 1.4638\n",
      "Epoch: 9/20... Step: 1210... Loss: 1.4604... Val Loss: 1.4580\n",
      "Epoch: 9/20... Step: 1220... Loss: 1.4555... Val Loss: 1.4518\n",
      "Epoch: 9/20... Step: 1230... Loss: 1.4305... Val Loss: 1.4499\n",
      "Epoch: 9/20... Step: 1240... Loss: 1.4415... Val Loss: 1.4485\n",
      "Epoch: 9/20... Step: 1250... Loss: 1.4514... Val Loss: 1.4451\n",
      "Epoch: 10/20... Step: 1260... Loss: 1.4540... Val Loss: 1.4471\n",
      "Epoch: 10/20... Step: 1270... Loss: 1.4494... Val Loss: 1.4456\n",
      "Epoch: 10/20... Step: 1280... Loss: 1.4576... Val Loss: 1.4407\n",
      "Epoch: 10/20... Step: 1290... Loss: 1.4484... Val Loss: 1.4415\n",
      "Epoch: 10/20... Step: 1300... Loss: 1.4338... Val Loss: 1.4365\n",
      "Epoch: 10/20... Step: 1310... Loss: 1.4445... Val Loss: 1.4350\n",
      "Epoch: 10/20... Step: 1320... Loss: 1.4188... Val Loss: 1.4328\n",
      "Epoch: 10/20... Step: 1330... Loss: 1.4298... Val Loss: 1.4319\n",
      "Epoch: 10/20... Step: 1340... Loss: 1.4107... Val Loss: 1.4302\n",
      "Epoch: 10/20... Step: 1350... Loss: 1.4011... Val Loss: 1.4277\n",
      "Epoch: 10/20... Step: 1360... Loss: 1.4013... Val Loss: 1.4217\n",
      "Epoch: 10/20... Step: 1370... Loss: 1.3896... Val Loss: 1.4201\n",
      "Epoch: 10/20... Step: 1380... Loss: 1.4377... Val Loss: 1.4181\n",
      "Epoch: 10/20... Step: 1390... Loss: 1.4379... Val Loss: 1.4176\n",
      "Epoch: 11/20... Step: 1400... Loss: 1.4391... Val Loss: 1.4165\n",
      "Epoch: 11/20... Step: 1410... Loss: 1.4579... Val Loss: 1.4170\n",
      "Epoch: 11/20... Step: 1420... Loss: 1.4458... Val Loss: 1.4110\n",
      "Epoch: 11/20... Step: 1430... Loss: 1.4121... Val Loss: 1.4130\n",
      "Epoch: 11/20... Step: 1440... Loss: 1.4290... Val Loss: 1.4126\n",
      "Epoch: 11/20... Step: 1450... Loss: 1.3584... Val Loss: 1.4104\n",
      "Epoch: 11/20... Step: 1460... Loss: 1.3875... Val Loss: 1.4073\n",
      "Epoch: 11/20... Step: 1470... Loss: 1.3792... Val Loss: 1.4070\n",
      "Epoch: 11/20... Step: 1480... Loss: 1.4006... Val Loss: 1.4037\n",
      "Epoch: 11/20... Step: 1490... Loss: 1.3847... Val Loss: 1.4034\n",
      "Epoch: 11/20... Step: 1500... Loss: 1.3738... Val Loss: 1.4018\n",
      "Epoch: 11/20... Step: 1510... Loss: 1.3630... Val Loss: 1.3968\n",
      "Epoch: 11/20... Step: 1520... Loss: 1.4012... Val Loss: 1.3954\n",
      "Epoch: 12/20... Step: 1530... Loss: 1.4463... Val Loss: 1.3998\n",
      "Epoch: 12/20... Step: 1540... Loss: 1.4047... Val Loss: 1.3949\n",
      "Epoch: 12/20... Step: 1550... Loss: 1.4076... Val Loss: 1.3938\n",
      "Epoch: 12/20... Step: 1560... Loss: 1.4154... Val Loss: 1.3895\n",
      "Epoch: 12/20... Step: 1570... Loss: 1.3620... Val Loss: 1.3898\n",
      "Epoch: 12/20... Step: 1580... Loss: 1.3401... Val Loss: 1.3868\n",
      "Epoch: 12/20... Step: 1590... Loss: 1.3290... Val Loss: 1.3851\n",
      "Epoch: 12/20... Step: 1600... Loss: 1.3629... Val Loss: 1.3869\n",
      "Epoch: 12/20... Step: 1610... Loss: 1.3627... Val Loss: 1.3857\n",
      "Epoch: 12/20... Step: 1620... Loss: 1.3523... Val Loss: 1.3831\n",
      "Epoch: 12/20... Step: 1630... Loss: 1.3804... Val Loss: 1.3835\n",
      "Epoch: 12/20... Step: 1640... Loss: 1.3621... Val Loss: 1.3860\n",
      "Epoch: 12/20... Step: 1650... Loss: 1.3406... Val Loss: 1.3791\n",
      "Epoch: 12/20... Step: 1660... Loss: 1.3919... Val Loss: 1.3758\n",
      "Epoch: 13/20... Step: 1670... Loss: 1.3616... Val Loss: 1.3826\n",
      "Epoch: 13/20... Step: 1680... Loss: 1.3705... Val Loss: 1.3746\n",
      "Epoch: 13/20... Step: 1690... Loss: 1.3465... Val Loss: 1.3736\n",
      "Epoch: 13/20... Step: 1700... Loss: 1.3457... Val Loss: 1.3710\n",
      "Epoch: 13/20... Step: 1710... Loss: 1.3221... Val Loss: 1.3703\n",
      "Epoch: 13/20... Step: 1720... Loss: 1.3354... Val Loss: 1.3731\n",
      "Epoch: 13/20... Step: 1730... Loss: 1.3716... Val Loss: 1.3678\n",
      "Epoch: 13/20... Step: 1740... Loss: 1.3355... Val Loss: 1.3751\n",
      "Epoch: 13/20... Step: 1750... Loss: 1.3097... Val Loss: 1.3700\n",
      "Epoch: 13/20... Step: 1760... Loss: 1.3295... Val Loss: 1.3643\n",
      "Epoch: 13/20... Step: 1770... Loss: 1.3650... Val Loss: 1.3633\n",
      "Epoch: 13/20... Step: 1780... Loss: 1.3292... Val Loss: 1.3634\n",
      "Epoch: 13/20... Step: 1790... Loss: 1.3230... Val Loss: 1.3601\n",
      "Epoch: 13/20... Step: 1800... Loss: 1.3445... Val Loss: 1.3608\n",
      "Epoch: 14/20... Step: 1810... Loss: 1.3445... Val Loss: 1.3644\n",
      "Epoch: 14/20... Step: 1820... Loss: 1.3329... Val Loss: 1.3578\n",
      "Epoch: 14/20... Step: 1830... Loss: 1.3542... Val Loss: 1.3592\n",
      "Epoch: 14/20... Step: 1840... Loss: 1.2955... Val Loss: 1.3579\n",
      "Epoch: 14/20... Step: 1850... Loss: 1.2828... Val Loss: 1.3580\n",
      "Epoch: 14/20... Step: 1860... Loss: 1.3345... Val Loss: 1.3567\n",
      "Epoch: 14/20... Step: 1870... Loss: 1.3566... Val Loss: 1.3554\n",
      "Epoch: 14/20... Step: 1880... Loss: 1.3301... Val Loss: 1.3583\n",
      "Epoch: 14/20... Step: 1890... Loss: 1.3535... Val Loss: 1.3537\n",
      "Epoch: 14/20... Step: 1900... Loss: 1.3275... Val Loss: 1.3530\n",
      "Epoch: 14/20... Step: 1910... Loss: 1.3284... Val Loss: 1.3510\n",
      "Epoch: 14/20... Step: 1920... Loss: 1.3220... Val Loss: 1.3504\n",
      "Epoch: 14/20... Step: 1930... Loss: 1.2906... Val Loss: 1.3471\n",
      "Epoch: 14/20... Step: 1940... Loss: 1.3495... Val Loss: 1.3483\n",
      "Epoch: 15/20... Step: 1950... Loss: 1.3181... Val Loss: 1.3563\n",
      "Epoch: 15/20... Step: 1960... Loss: 1.3199... Val Loss: 1.3439\n",
      "Epoch: 15/20... Step: 1970... Loss: 1.3049... Val Loss: 1.3463\n",
      "Epoch: 15/20... Step: 1980... Loss: 1.3053... Val Loss: 1.3444\n",
      "Epoch: 15/20... Step: 1990... Loss: 1.3077... Val Loss: 1.3456\n",
      "Epoch: 15/20... Step: 2000... Loss: 1.2880... Val Loss: 1.3418\n",
      "Epoch: 15/20... Step: 2010... Loss: 1.3112... Val Loss: 1.3389\n",
      "Epoch: 15/20... Step: 2020... Loss: 1.3234... Val Loss: 1.3439\n",
      "Epoch: 15/20... Step: 2030... Loss: 1.2958... Val Loss: 1.3392\n",
      "Epoch: 15/20... Step: 2040... Loss: 1.3088... Val Loss: 1.3381\n",
      "Epoch: 15/20... Step: 2050... Loss: 1.2903... Val Loss: 1.3361\n",
      "Epoch: 15/20... Step: 2060... Loss: 1.2964... Val Loss: 1.3360\n",
      "Epoch: 15/20... Step: 2070... Loss: 1.3092... Val Loss: 1.3351\n",
      "Epoch: 15/20... Step: 2080... Loss: 1.3082... Val Loss: 1.3364\n",
      "Epoch: 16/20... Step: 2090... Loss: 1.3102... Val Loss: 1.3359\n",
      "Epoch: 16/20... Step: 2100... Loss: 1.2956... Val Loss: 1.3360\n",
      "Epoch: 16/20... Step: 2110... Loss: 1.2876... Val Loss: 1.3323\n",
      "Epoch: 16/20... Step: 2120... Loss: 1.3081... Val Loss: 1.3335\n",
      "Epoch: 16/20... Step: 2130... Loss: 1.2761... Val Loss: 1.3337\n",
      "Epoch: 16/20... Step: 2140... Loss: 1.2824... Val Loss: 1.3293\n",
      "Epoch: 16/20... Step: 2150... Loss: 1.3098... Val Loss: 1.3286\n",
      "Epoch: 16/20... Step: 2160... Loss: 1.2783... Val Loss: 1.3349\n",
      "Epoch: 16/20... Step: 2170... Loss: 1.2930... Val Loss: 1.3290\n",
      "Epoch: 16/20... Step: 2180... Loss: 1.2831... Val Loss: 1.3278\n",
      "Epoch: 16/20... Step: 2190... Loss: 1.3044... Val Loss: 1.3257\n",
      "Epoch: 16/20... Step: 2200... Loss: 1.2827... Val Loss: 1.3244\n",
      "Epoch: 16/20... Step: 2210... Loss: 1.2561... Val Loss: 1.3256\n",
      "Epoch: 16/20... Step: 2220... Loss: 1.2923... Val Loss: 1.3280\n",
      "Epoch: 17/20... Step: 2230... Loss: 1.2636... Val Loss: 1.3278\n",
      "Epoch: 17/20... Step: 2240... Loss: 1.2772... Val Loss: 1.3270\n",
      "Epoch: 17/20... Step: 2250... Loss: 1.2690... Val Loss: 1.3217\n",
      "Epoch: 17/20... Step: 2260... Loss: 1.2618... Val Loss: 1.3246\n",
      "Epoch: 17/20... Step: 2270... Loss: 1.2869... Val Loss: 1.3223\n",
      "Epoch: 17/20... Step: 2280... Loss: 1.2961... Val Loss: 1.3195\n",
      "Epoch: 17/20... Step: 2290... Loss: 1.2825... Val Loss: 1.3187\n",
      "Epoch: 17/20... Step: 2300... Loss: 1.2478... Val Loss: 1.3205\n",
      "Epoch: 17/20... Step: 2310... Loss: 1.2713... Val Loss: 1.3169\n",
      "Epoch: 17/20... Step: 2320... Loss: 1.2644... Val Loss: 1.3175\n",
      "Epoch: 17/20... Step: 2330... Loss: 1.2659... Val Loss: 1.3163\n",
      "Epoch: 17/20... Step: 2340... Loss: 1.2886... Val Loss: 1.3137\n",
      "Epoch: 17/20... Step: 2350... Loss: 1.2805... Val Loss: 1.3163\n",
      "Epoch: 17/20... Step: 2360... Loss: 1.2797... Val Loss: 1.3213\n",
      "Epoch: 18/20... Step: 2370... Loss: 1.2537... Val Loss: 1.3163\n",
      "Epoch: 18/20... Step: 2380... Loss: 1.2697... Val Loss: 1.3181\n",
      "Epoch: 18/20... Step: 2390... Loss: 1.2713... Val Loss: 1.3148\n",
      "Epoch: 18/20... Step: 2400... Loss: 1.2771... Val Loss: 1.3147\n",
      "Epoch: 18/20... Step: 2410... Loss: 1.2864... Val Loss: 1.3143\n",
      "Epoch: 18/20... Step: 2420... Loss: 1.2627... Val Loss: 1.3081\n",
      "Epoch: 18/20... Step: 2430... Loss: 1.2729... Val Loss: 1.3117\n",
      "Epoch: 18/20... Step: 2440... Loss: 1.2508... Val Loss: 1.3132\n",
      "Epoch: 18/20... Step: 2450... Loss: 1.2520... Val Loss: 1.3105\n",
      "Epoch: 18/20... Step: 2460... Loss: 1.2633... Val Loss: 1.3079\n",
      "Epoch: 18/20... Step: 2470... Loss: 1.2601... Val Loss: 1.3091\n",
      "Epoch: 18/20... Step: 2480... Loss: 1.2499... Val Loss: 1.3073\n",
      "Epoch: 18/20... Step: 2490... Loss: 1.2437... Val Loss: 1.3094\n",
      "Epoch: 18/20... Step: 2500... Loss: 1.2494... Val Loss: 1.3115\n",
      "Epoch: 19/20... Step: 2510... Loss: 1.2575... Val Loss: 1.3084\n",
      "Epoch: 19/20... Step: 2520... Loss: 1.2663... Val Loss: 1.3093\n",
      "Epoch: 19/20... Step: 2530... Loss: 1.2676... Val Loss: 1.3083\n",
      "Epoch: 19/20... Step: 2540... Loss: 1.2864... Val Loss: 1.3070\n",
      "Epoch: 19/20... Step: 2550... Loss: 1.2424... Val Loss: 1.3091\n",
      "Epoch: 19/20... Step: 2560... Loss: 1.2543... Val Loss: 1.3008\n",
      "Epoch: 19/20... Step: 2570... Loss: 1.2487... Val Loss: 1.3034\n",
      "Epoch: 19/20... Step: 2580... Loss: 1.2711... Val Loss: 1.3012\n",
      "Epoch: 19/20... Step: 2590... Loss: 1.2388... Val Loss: 1.3018\n",
      "Epoch: 19/20... Step: 2600... Loss: 1.2355... Val Loss: 1.3061\n",
      "Epoch: 19/20... Step: 2610... Loss: 1.2489... Val Loss: 1.3014\n",
      "Epoch: 19/20... Step: 2620... Loss: 1.2242... Val Loss: 1.3003\n",
      "Epoch: 19/20... Step: 2630... Loss: 1.2351... Val Loss: 1.3024\n",
      "Epoch: 19/20... Step: 2640... Loss: 1.2414... Val Loss: 1.3033\n",
      "Epoch: 20/20... Step: 2650... Loss: 1.2441... Val Loss: 1.3010\n",
      "Epoch: 20/20... Step: 2660... Loss: 1.2531... Val Loss: 1.3045\n",
      "Epoch: 20/20... Step: 2670... Loss: 1.2572... Val Loss: 1.2988\n",
      "Epoch: 20/20... Step: 2680... Loss: 1.2552... Val Loss: 1.3009\n",
      "Epoch: 20/20... Step: 2690... Loss: 1.2386... Val Loss: 1.3022\n",
      "Epoch: 20/20... Step: 2700... Loss: 1.2480... Val Loss: 1.2951\n",
      "Epoch: 20/20... Step: 2710... Loss: 1.2202... Val Loss: 1.2971\n",
      "Epoch: 20/20... Step: 2720... Loss: 1.2230... Val Loss: 1.2957\n",
      "Epoch: 20/20... Step: 2730... Loss: 1.2165... Val Loss: 1.2982\n",
      "Epoch: 20/20... Step: 2740... Loss: 1.2217... Val Loss: 1.2982\n",
      "Epoch: 20/20... Step: 2750... Loss: 1.2271... Val Loss: 1.2944\n",
      "Epoch: 20/20... Step: 2760... Loss: 1.2176... Val Loss: 1.2954\n",
      "Epoch: 20/20... Step: 2770... Loss: 1.2523... Val Loss: 1.2947\n",
      "Epoch: 20/20... Step: 2780... Loss: 1.2699... Val Loss: 1.2937\n"
     ]
    }
   ],
   "source": [
    "batch_size = 128\n",
    "seq_length = 100\n",
    "n_epochs = 20 # start smaller if you are just testing initial behavior\n",
    "\n",
    "# train the model\n",
    "train(net, encoded, epochs=n_epochs, batch_size=batch_size, seq_length=seq_length, lr=0.001, print_every=10)"
   ]
  },
  {
   "cell_type": "markdown",
   "metadata": {},
   "source": [
    "## Getting the best model\n",
    "\n",
    "To set your hyperparameters to get the best performance, you'll want to watch the training and validation losses. If your training loss is much lower than the validation loss, you're overfitting. Increase regularization (more dropout) or use a smaller network. If the training and validation losses are close, you're underfitting so you can increase the size of the network."
   ]
  },
  {
   "cell_type": "markdown",
   "metadata": {},
   "source": [
    "## Hyperparameters\n",
    "\n",
    "Here are the hyperparameters for the network.\n",
    "\n",
    "In defining the model:\n",
    "* `n_hidden` - The number of units in the hidden layers.\n",
    "* `n_layers` - Number of hidden LSTM layers to use.\n",
    "\n",
    "We assume that dropout probability and learning rate will be kept at the default, in this example.\n",
    "\n",
    "And in training:\n",
    "* `batch_size` - Number of sequences running through the network in one pass.\n",
    "* `seq_length` - Number of characters in the sequence the network is trained on. Larger is better typically, the network will learn more long range dependencies. But it takes longer to train. 100 is typically a good number here.\n",
    "* `lr` - Learning rate for training\n",
    "\n",
    "Here's some good advice from Andrej Karpathy on training the network. I'm going to copy it in here for your benefit, but also link to [where it originally came from](https://github.com/karpathy/char-rnn#tips-and-tricks).\n",
    "\n",
    "> ## Tips and Tricks\n",
    "\n",
    ">### Monitoring Validation Loss vs. Training Loss\n",
    ">If you're somewhat new to Machine Learning or Neural Networks it can take a bit of expertise to get good models. The most important quantity to keep track of is the difference between your training loss (printed during training) and the validation loss (printed once in a while when the RNN is run on the validation data (by default every 1000 iterations)). In particular:\n",
    "\n",
    "> - If your training loss is much lower than validation loss then this means the network might be **overfitting**. Solutions to this are to decrease your network size, or to increase dropout. For example you could try dropout of 0.5 and so on.\n",
    "> - If your training/validation loss are about equal then your model is **underfitting**. Increase the size of your model (either number of layers or the raw number of neurons per layer)\n",
    "\n",
    "> ### Approximate number of parameters\n",
    "\n",
    "> The two most important parameters that control the model are `n_hidden` and `n_layers`. I would advise that you always use `n_layers` of either 2/3. The `n_hidden` can be adjusted based on how much data you have. The two important quantities to keep track of here are:\n",
    "\n",
    "> - The number of parameters in your model. This is printed when you start training.\n",
    "> - The size of your dataset. 1MB file is approximately 1 million characters.\n",
    "\n",
    ">These two should be about the same order of magnitude. It's a little tricky to tell. Here are some examples:\n",
    "\n",
    "> - I have a 100MB dataset and I'm using the default parameter settings (which currently print 150K parameters). My data size is significantly larger (100 mil >> 0.15 mil), so I expect to heavily underfit. I am thinking I can comfortably afford to make `n_hidden` larger.\n",
    "> - I have a 10MB dataset and running a 10 million parameter model. I'm slightly nervous and I'm carefully monitoring my validation loss. If it's larger than my training loss then I may want to try to increase dropout a bit and see if that helps the validation loss.\n",
    "\n",
    "> ### Best models strategy\n",
    "\n",
    ">The winning strategy to obtaining very good models (if you have the compute time) is to always err on making the network larger (as large as you're willing to wait for it to compute) and then try different dropout values (between 0,1). Whatever model has the best validation performance (the loss, written in the checkpoint filename, low is good) is the one you should use in the end.\n",
    "\n",
    ">It is very common in deep learning to run many different models with many different hyperparameter settings, and in the end take whatever checkpoint gave the best validation performance.\n",
    "\n",
    ">By the way, the size of your training and validation splits are also parameters. Make sure you have a decent amount of data in your validation set or otherwise the validation performance will be noisy and not very informative."
   ]
  },
  {
   "cell_type": "markdown",
   "metadata": {},
   "source": [
    "## Checkpoint\n",
    "\n",
    "After training, we'll save the model so we can load it again later if we need too. Here I'm saving the parameters needed to create the same architecture, the hidden layer hyperparameters and the text characters."
   ]
  },
  {
   "cell_type": "code",
   "execution_count": 16,
   "metadata": {
    "collapsed": true
   },
   "outputs": [],
   "source": [
    "# change the name, for saving multiple files\n",
    "model_name = 'rnn_20_epoch.net'\n",
    "\n",
    "checkpoint = {'n_hidden': net.n_hidden,\n",
    "              'n_layers': net.n_layers,\n",
    "              'state_dict': net.state_dict(),\n",
    "              'tokens': net.chars}\n",
    "\n",
    "with open(model_name, 'wb') as f:\n",
    "    torch.save(checkpoint, f)"
   ]
  },
  {
   "cell_type": "markdown",
   "metadata": {},
   "source": [
    "---\n",
    "## Making Predictions\n",
    "\n",
    "Now that the model is trained, we'll want to sample from it and make predictions about next characters! To sample, we pass in a character and have the network predict the next character. Then we take that character, pass it back in, and get another predicted character. Just keep doing this and you'll generate a bunch of text!\n",
    "\n",
    "### A note on the `predict`  function\n",
    "\n",
    "The output of our RNN is from a fully-connected layer and it outputs a **distribution of next-character scores**.\n",
    "\n",
    "> To actually get the next character, we apply a softmax function, which gives us a *probability* distribution that we can then sample to predict the next character.\n",
    "\n",
    "### Top K sampling\n",
    "\n",
    "Our predictions come from a categorical probability distribution over all the possible characters. We can make the sample text and make it more reasonable to handle (with less variables) by only considering some $K$ most probable characters. This will prevent the network from giving us completely absurd characters while allowing it to introduce some noise and randomness into the sampled text. Read more about [topk, here](https://pytorch.org/docs/stable/torch.html#torch.topk).\n"
   ]
  },
  {
   "cell_type": "code",
   "execution_count": 17,
   "metadata": {
    "collapsed": true
   },
   "outputs": [],
   "source": [
    "def predict(net, char, h=None, top_k=None):\n",
    "        ''' Given a character, predict the next character.\n",
    "            Returns the predicted character and the hidden state.\n",
    "        '''\n",
    "        \n",
    "        # tensor inputs\n",
    "        x = np.array([[net.char2int[char]]])\n",
    "        x = one_hot_encode(x, len(net.chars))\n",
    "        inputs = torch.from_numpy(x)\n",
    "        \n",
    "        if(train_on_gpu):\n",
    "            inputs = inputs.cuda()\n",
    "        \n",
    "        # detach hidden state from history\n",
    "        h = tuple([each.data for each in h])\n",
    "        # get the output of the model\n",
    "        out, h = net(inputs, h)\n",
    "\n",
    "        # get the character probabilities\n",
    "        p = F.softmax(out, dim=1).data\n",
    "        if(train_on_gpu):\n",
    "            p = p.cpu() # move to cpu\n",
    "        \n",
    "        # get top characters\n",
    "        if top_k is None:\n",
    "            top_ch = np.arange(len(net.chars))\n",
    "        else:\n",
    "            p, top_ch = p.topk(top_k)\n",
    "            top_ch = top_ch.numpy().squeeze()\n",
    "        \n",
    "        # select the likely next character with some element of randomness\n",
    "        p = p.numpy().squeeze()\n",
    "        char = np.random.choice(top_ch, p=p/p.sum())\n",
    "        \n",
    "        # return the encoded value of the predicted char and the hidden state\n",
    "        return net.int2char[char], h"
   ]
  },
  {
   "cell_type": "markdown",
   "metadata": {},
   "source": [
    "### Priming and generating text \n",
    "\n",
    "Typically you'll want to prime the network so you can build up a hidden state. Otherwise the network will start out generating characters at random. In general the first bunch of characters will be a little rough since it hasn't built up a long history of characters to predict from."
   ]
  },
  {
   "cell_type": "code",
   "execution_count": 18,
   "metadata": {
    "collapsed": true
   },
   "outputs": [],
   "source": [
    "def sample(net, size, prime='The', top_k=None):\n",
    "        \n",
    "    if(train_on_gpu):\n",
    "        net.cuda()\n",
    "    else:\n",
    "        net.cpu()\n",
    "    \n",
    "    net.eval() # eval mode\n",
    "    \n",
    "    # First off, run through the prime characters\n",
    "    chars = [ch for ch in prime]\n",
    "    h = net.init_hidden(1)\n",
    "    for ch in prime:\n",
    "        char, h = predict(net, ch, h, top_k=top_k)\n",
    "\n",
    "    chars.append(char)\n",
    "    \n",
    "    # Now pass in the previous character and get a new one\n",
    "    for ii in range(size):\n",
    "        char, h = predict(net, chars[-1], h, top_k=top_k)\n",
    "        chars.append(char)\n",
    "\n",
    "    return ''.join(chars)"
   ]
  },
  {
   "cell_type": "code",
   "execution_count": 19,
   "metadata": {},
   "outputs": [
    {
     "name": "stdout",
     "output_type": "stream",
     "text": [
      "Anna, to her how to his brother--and so in taking off it, and she had been to think a little seat, there were since\n",
      "they could not take a\n",
      "calful time, and that she was too, and he saw what teers, some secund staircase of the princess. The mideler hinds, and was as an old man. That shill man was not, but he could not tell him the big, and she would not be suffering was to the marshar of the masters they\n",
      "heard her, but\n",
      "the marshal of the mose to the services had so\n",
      "left alone, and was sorrough to her and the sounds of society of the doctor's face about, but his wife should be struck that\n",
      "some wemen and a man\n",
      "who were an answer to him. He was saying that as he had said he was to be sent in the people that his\n",
      "hands were any only thross of\n",
      "all the same time\n",
      "she\n",
      "still seemed to thinks of the\n",
      "principal family.\n",
      "\n",
      "\"Well, I don't look on anything. What is the same more than there's such\n",
      "means will there, but the pashioned is seeing his study in his white wife's brother's creet,\"\n",
      "said the spiritual co\n"
     ]
    }
   ],
   "source": [
    "print(sample(net, 1000, prime='Anna', top_k=5))"
   ]
  },
  {
   "cell_type": "markdown",
   "metadata": {},
   "source": [
    "## Loading a checkpoint"
   ]
  },
  {
   "cell_type": "code",
   "execution_count": 20,
   "metadata": {
    "collapsed": true
   },
   "outputs": [
    {
     "data": {
      "text/plain": [
       "<All keys matched successfully>"
      ]
     },
     "execution_count": 20,
     "metadata": {},
     "output_type": "execute_result"
    }
   ],
   "source": [
    "# Here we have loaded in a model that trained over 20 epochs `rnn_20_epoch.net`\n",
    "with open('rnn_20_epoch.net', 'rb') as f:\n",
    "    checkpoint = torch.load(f)\n",
    "    \n",
    "loaded = CharRNN(checkpoint['tokens'], n_hidden=checkpoint['n_hidden'], n_layers=checkpoint['n_layers'])\n",
    "loaded.load_state_dict(checkpoint['state_dict'])"
   ]
  },
  {
   "cell_type": "code",
   "execution_count": 21,
   "metadata": {},
   "outputs": [
    {
     "name": "stdout",
     "output_type": "stream",
     "text": [
      "And Levin said that the profession\n",
      "of the carriage shouteful, soon as it was a love to the party, the contrary are.\n",
      "\n",
      "Anna had taken this path of the doctor world with her.\n",
      "\n",
      "\"I am glad,\" said Levin, with all other carriage. The day of the\n",
      "painful same he could not be to think of taking her a song of\n",
      "an existence\n",
      "to her son as he was angry.\n",
      "\n",
      "\"All the did not\n",
      "believe it out, I can't bryar\n",
      "first--it's a people say, it always thinking to see it to her and seemed\n",
      "to see that in the conversation of the position, and there a child is that to\n",
      "blead them\n",
      "time\n",
      "to see him that there is nothing. And to say\n",
      "that in the provert well be it is to bore the mosh imagination, and that\n",
      "in\n",
      "the sociaty of the\n",
      "princess was an interesting impossible in that single.\n",
      "\n",
      "She could not be settled in the\n",
      "day in the day, and the counter of that\n",
      "shine that if he was all the station in their mone of all them, he could not told her he saw. The princess, and he was always, struggling to the can in this moming of the doors, he was sure in the princess.\n",
      "\n",
      "He could not talk to her a carriage, and she was despair to her hower horses, as though he came in the court and to say to the same coming from the doctor to the crowding.\n",
      "\n",
      "\"What have they been in some steal well all sorts in that patcers?\"\n",
      "\n",
      "Levin stood all at the same table in his white, she was at the same door. His eyes he would hear her,\n",
      "and that she was delighted, and\n",
      "though the conditions and the single wend, towards some support, and start of the chain in\n",
      "the cheeks were caresed to him to a stranger to the box. The persurian concearing to his health of the station,\n",
      "he had\n",
      "not said that he had the position that hes through the sound of the\n",
      "morning, the most secret\n",
      "shreath\n",
      "was so at that must have been a little of the station, he felt that the princess tore him in the\n",
      "peasant are the\n",
      "statches was sorry free\n",
      "her forehand a drawn, that she was now with his\n",
      "happy,\n",
      "and had now seen her to\n",
      "tell him the day in the countes, holding her husband, and the doctor and the doc\n"
     ]
    }
   ],
   "source": [
    "# Sample using a loaded model\n",
    "print(sample(loaded, 2000, top_k=5, prime=\"And Levin said\"))"
   ]
  },
  {
   "cell_type": "code",
   "execution_count": null,
   "metadata": {
    "collapsed": true
   },
   "outputs": [],
   "source": []
  }
 ],
 "metadata": {
  "kernelspec": {
   "display_name": "Python 3.8.5 ('deep-learning')",
   "language": "python",
   "name": "python3"
  },
  "language_info": {
   "codemirror_mode": {
    "name": "ipython",
    "version": 3
   },
   "file_extension": ".py",
   "mimetype": "text/x-python",
   "name": "python",
   "nbconvert_exporter": "python",
   "pygments_lexer": "ipython3",
   "version": "3.8.5"
  },
  "vscode": {
   "interpreter": {
    "hash": "40034c1d429c0e04f73b3ffd3cc7b4aed026c534b4b5eb1d0997cd335befb757"
   }
  }
 },
 "nbformat": 4,
 "nbformat_minor": 2
}
